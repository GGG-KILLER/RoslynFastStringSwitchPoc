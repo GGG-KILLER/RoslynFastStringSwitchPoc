{
 "cells": [
  {
   "cell_type": "code",
   "execution_count": null,
   "metadata": {
    "dotnet_interactive": {
     "language": "csharp"
    }
   },
   "outputs": [
    {
     "data": {
      "text/html": [
       "<div><div></div><div></div><div><strong>Installed Packages</strong><ul><li><span>Microsoft.CodeAnalysis.CSharp, 3.11.0</span></li></ul></div></div>"
      ]
     },
     "metadata": {},
     "output_type": "display_data"
    },
    {
     "data": {
      "text/html": [
       "<span><a href=\"https://docs.microsoft.com/dotnet/api/microsoft.codeanalysis.csharp.syntax.identifiernamesyntax?view=net-5.0\">Microsoft.CodeAnalysis.CSharp.Syntax.IdentifierNameSyntax</a></span>"
      ]
     },
     "metadata": {},
     "output_type": "display_data"
    }
   ],
   "source": [
    "#r \"nuget: Microsoft.CodeAnalysis.CSharp, 3.11.0\"\n",
    "using Microsoft.CodeAnalysis;\n",
    "using Microsoft.CodeAnalysis.CSharp;\n",
    "using Microsoft.CodeAnalysis.CSharp.Syntax;\n",
    "\n",
    "const string code = @\"goto label;\";\n",
    "var tree = CSharpSyntaxTree.ParseText(code);\n",
    "var @goto = (GotoStatementSyntax) tree.GetRoot().ChildNodes().Single().ChildNodes().Single();\n",
    "var dest = @goto.Expression;\n",
    "dest.GetType().Display();"
   ]
  }
 ],
 "metadata": {
  "kernelspec": {
   "display_name": ".NET (C#)",
   "language": "C#",
   "name": ".net-csharp"
  },
  "language_info": {
   "file_extension": ".cs",
   "mimetype": "text/x-csharp",
   "name": "C#",
   "pygments_lexer": "csharp",
   "version": "8.0"
  },
  "orig_nbformat": 4
 },
 "nbformat": 4,
 "nbformat_minor": 2
}
